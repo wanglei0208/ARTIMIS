{
 "cells": [
  {
   "cell_type": "code",
   "execution_count": 1,
   "id": "d82bdc43-d1e9-4fca-aa00-9220a9fd34bd",
   "metadata": {},
   "outputs": [
    {
     "name": "stdout",
     "output_type": "stream",
     "text": [
      "Number of duplicates: 2\n"
     ]
    },
    {
     "data": {
      "text/plain": [
       "(9998, 61)"
      ]
     },
     "execution_count": 1,
     "metadata": {},
     "output_type": "execute_result"
    }
   ],
   "source": [
    "import pandas as pd\n",
    "input_file = \"./processed_result/merge.csv\"   \n",
    "output_file = \"./processed_result/ddos.csv\"  \n",
    "df = pd.read_csv(input_file)\n",
    "\n",
    "dups = df[df.duplicated()]\n",
    "print(f'Number of duplicates: {len(dups)}')\n",
    "df.drop_duplicates(inplace = True)\n",
    "df.reset_index(drop=True, inplace=True)\n",
    "df.shape\n"
   ]
  },
  {
   "cell_type": "code",
   "execution_count": 2,
   "id": "8ff3d0ee-6598-488c-ad85-ce47739de135",
   "metadata": {},
   "outputs": [
    {
     "name": "stdout",
     "output_type": "stream",
     "text": [
      "⚠️ The following items have negative values：\n",
      "  - packet_IAT_min\n",
      "  - bwd_packets_IAT_min\n",
      "  - active_mean\n",
      "  - active_max\n",
      "  - active_min\n",
      "\n",
      "✅ Cleaning completed: Original sample count: 9998, Remaining after cleaning: 9872\n"
     ]
    }
   ],
   "source": [
    "# === Exclude the \"Label\" column ===\n",
    "columns_to_check = [col for col in df.columns if col.lower() != 'label']\n",
    "\n",
    "neg_cols = [col for col in columns_to_check if (df[col] < 0).any()]\n",
    "if neg_cols:\n",
    "    print(\"⚠️ The following items have negative values：\")\n",
    "    for col in neg_cols:\n",
    "        print(f\"  - {col}\")\n",
    "else:\n",
    "    print(\"✅No negative values were found！\")\n",
    "\n",
    "# === Delete the entire rows that contain negative values ===\n",
    "mask = (df[columns_to_check] < 0).any(axis=1)\n",
    "df_cleaned = df[~mask]\n",
    "df_cleaned.to_csv(output_file, index=False)\n",
    "\n",
    "print(f\"\\n✅ Cleaning completed: Original sample count: {len(df)}, Remaining after cleaning: {len(df_cleaned)}\")"
   ]
  },
  {
   "cell_type": "code",
   "execution_count": 3,
   "id": "355a076f-a96d-4bed-88ca-4371b4c65920",
   "metadata": {},
   "outputs": [
    {
     "name": "stdout",
     "output_type": "stream",
     "text": [
      "DDoS_LOIT    4998\n",
      "Benign       4874\n",
      "Name: label, dtype: int64\n"
     ]
    }
   ],
   "source": [
    "import pandas as pd\n",
    "data = pd.read_csv('./processed_result/ddos.csv')\n",
    "label_column = data.columns[-1]\n",
    "label_counts = data[label_column].value_counts()\n",
    "print(label_counts)"
   ]
  },
  {
   "cell_type": "code",
   "execution_count": null,
   "id": "a2fec1b3-a8b8-44d6-be3d-99263e9e341c",
   "metadata": {},
   "outputs": [],
   "source": []
  }
 ],
 "metadata": {
  "kernelspec": {
   "display_name": "Python 3",
   "language": "python",
   "name": "python3"
  },
  "language_info": {
   "codemirror_mode": {
    "name": "ipython",
    "version": 3
   },
   "file_extension": ".py",
   "mimetype": "text/x-python",
   "name": "python",
   "nbconvert_exporter": "python",
   "pygments_lexer": "ipython3",
   "version": "3.8.8"
  }
 },
 "nbformat": 4,
 "nbformat_minor": 5
}
