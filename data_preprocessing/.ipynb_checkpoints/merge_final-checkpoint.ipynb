{
 "cells": [
  {
   "cell_type": "code",
   "execution_count": 1,
   "id": "a3acd0ff-7d1a-41c1-a255-da174187d4aa",
   "metadata": {},
   "outputs": [
    {
     "name": "stdout",
     "output_type": "stream",
     "text": [
      "The new dataset has been saved as: ./processed_result/merge.csv\n"
     ]
    }
   ],
   "source": [
    "import pandas as pd\n",
    "\n",
    "# 加载CSV文件\n",
    "file1 = './processed_result/benign_sample_5000_selected.csv'  \n",
    "file2 = './processed_result/ddos_sample_5000_selected.csv'  \n",
    "\n",
    "df1 = pd.read_csv(file1)\n",
    "df2 = pd.read_csv(file2, header=0) \n",
    "\n",
    "if not df1.columns.equals(df2.columns):\n",
    "    print(\"Warning: The column names of the two files are different. Check for consistency in column names.\")\n",
    "\n",
    "merged_df = pd.concat([df1, df2], ignore_index=True)\n",
    "\n",
    "output_file = './processed_result/merge.csv' \n",
    "merged_df.to_csv(output_file, index=False)\n",
    "print(f\"The new dataset has been saved as: {output_file}\")"
   ]
  },
  {
   "cell_type": "code",
   "execution_count": null,
   "id": "27a097dc-8528-4874-8d02-d3befd72c8ba",
   "metadata": {},
   "outputs": [],
   "source": []
  }
 ],
 "metadata": {
  "kernelspec": {
   "display_name": "Python 3",
   "language": "python",
   "name": "python3"
  },
  "language_info": {
   "codemirror_mode": {
    "name": "ipython",
    "version": 3
   },
   "file_extension": ".py",
   "mimetype": "text/x-python",
   "name": "python",
   "nbconvert_exporter": "python",
   "pygments_lexer": "ipython3",
   "version": "3.8.8"
  }
 },
 "nbformat": 4,
 "nbformat_minor": 5
}
