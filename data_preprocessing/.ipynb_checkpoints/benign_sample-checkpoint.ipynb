{
 "cells": [
  {
   "cell_type": "code",
   "execution_count": 1,
   "id": "6425927b-6e95-4a68-91dd-2a95595d000f",
   "metadata": {},
   "outputs": [
    {
     "name": "stdout",
     "output_type": "stream",
     "text": [
      "The new dataset has been saved as: ./processed_result/benign_sample_5000.csv\n"
     ]
    }
   ],
   "source": [
    "import pandas as pd\n",
    "\n",
    "# load CSV\n",
    "file_path = './BCCC-CIC-IDS2017/wednesday_benign.csv' \n",
    "df = pd.read_csv(file_path)\n",
    "\n",
    "sampled_df = df.sample(n=5000, random_state=42) \n",
    "output_file = './processed_result/benign_sample_5000.csv'\n",
    "\n",
    "sampled_df.to_csv(output_file, index=False)\n",
    "print(f\"The new dataset has been saved as: {output_file}\")"
   ]
  },
  {
   "cell_type": "code",
   "execution_count": 2,
   "id": "250b73f4-a050-46dd-9bd2-e2becef77413",
   "metadata": {},
   "outputs": [
    {
     "name": "stdout",
     "output_type": "stream",
     "text": [
      "The new dataset has been saved as: ./processed_result/benign_sample_5000_selected.csv\n"
     ]
    }
   ],
   "source": [
    "file_path = './processed_result/benign_sample_5000.csv'  \n",
    "sampled_df = pd.read_csv(file_path)\n",
    "\n",
    "# Define the characteristic columns for the selection\n",
    "selected_features = [\n",
    "    'dst_port','duration',\n",
    "    'fwd_packets_count', 'bwd_packets_count', \n",
    "    'fwd_total_payload_bytes', 'bwd_total_payload_bytes', 'fwd_payload_bytes_max', 'fwd_payload_bytes_min', \n",
    "    'fwd_payload_bytes_mean', 'fwd_payload_bytes_std', 'bwd_payload_bytes_max', \n",
    "    'bwd_payload_bytes_min', 'bwd_payload_bytes_mean', 'bwd_payload_bytes_std', \n",
    "    'payload_bytes_min', 'payload_bytes_max', 'payload_bytes_mean', 'payload_bytes_std', \n",
    "    'fwd_avg_segment_size', 'bwd_avg_segment_size', \n",
    "    'fwd_total_header_bytes',  'bwd_total_header_bytes', \n",
    "    'bytes_rate', 'packets_rate', 'fwd_packets_rate',  'bwd_packets_rate', 'down_up_rate', \n",
    "    'packets_IAT_mean', 'packet_IAT_std', 'packet_IAT_max', 'packet_IAT_min', \n",
    "    'fwd_packets_IAT_total', 'fwd_packets_IAT_mean', 'fwd_packets_IAT_std', 'fwd_packets_IAT_max', 'fwd_packets_IAT_min', \n",
    "    'bwd_packets_IAT_total', 'bwd_packets_IAT_mean', 'bwd_packets_IAT_std', 'bwd_packets_IAT_max', 'bwd_packets_IAT_min',\n",
    "    'subflow_fwd_packets', 'subflow_fwd_bytes', 'subflow_bwd_packets', 'subflow_bwd_bytes', \n",
    "    'active_mean', 'active_std', 'active_max', 'active_min', 'idle_mean', 'idle_std', 'idle_max', 'idle_min', \n",
    "    'fin_flag_counts','syn_flag_counts','rst_flag_counts','ack_flag_counts','psh_flag_counts','fwd_ack_flag_counts','bwd_rst_flag_counts',\n",
    "    'label'\n",
    "]\n",
    "\n",
    "df_selected = sampled_df[selected_features]\n",
    "\n",
    "output_file = './processed_result/benign_sample_5000_selected.csv' \n",
    "df_selected.to_csv(output_file, index=False)\n",
    "\n",
    "print(f\"The new dataset has been saved as: {output_file}\")"
   ]
  },
  {
   "cell_type": "code",
   "execution_count": null,
   "id": "56548c5a-f319-4966-9371-93bb81cdd67a",
   "metadata": {},
   "outputs": [],
   "source": []
  }
 ],
 "metadata": {
  "kernelspec": {
   "display_name": "python(3.8.8)",
   "language": "python",
   "name": "env-3.8.8"
  },
  "language_info": {
   "codemirror_mode": {
    "name": "ipython",
    "version": 3
   },
   "file_extension": ".py",
   "mimetype": "text/x-python",
   "name": "python",
   "nbconvert_exporter": "python",
   "pygments_lexer": "ipython3",
   "version": "3.8.8"
  }
 },
 "nbformat": 4,
 "nbformat_minor": 5
}
