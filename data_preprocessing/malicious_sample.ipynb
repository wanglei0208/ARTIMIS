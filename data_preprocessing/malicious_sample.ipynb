{
 "cells": [
  {
   "cell_type": "code",
   "execution_count": 1,
   "id": "64121110-d4ef-474b-a474-96e778aa1824",
   "metadata": {},
   "outputs": [
    {
     "name": "stdout",
     "output_type": "stream",
     "text": [
      "Number of duplicates: 0\n"
     ]
    },
    {
     "data": {
      "text/plain": [
       "(10000, 122)"
      ]
     },
     "execution_count": 1,
     "metadata": {},
     "output_type": "execute_result"
    }
   ],
   "source": [
    "#Remove duplicate records\n",
    "import pandas as pd\n",
    "file_path = './BCCC-CIC-IDS2017/ddos_loit.csv'\n",
    "data = pd.read_csv(file_path)\n",
    "dups = data[data.duplicated()]\n",
    "print(f'Number of duplicates: {len(dups)}')\n",
    "data.drop_duplicates(inplace = True)\n",
    "data.reset_index(drop=True, inplace=True)\n",
    "data.shape"
   ]
  },
  {
   "cell_type": "code",
   "execution_count": 2,
   "id": "163bab55-8a99-4fa3-8100-1bd47558e4e3",
   "metadata": {},
   "outputs": [
    {
     "name": "stdout",
     "output_type": "stream",
     "text": [
      "The new dataset has been saved as: ./processed_result/ddos_selected_features.csv\n"
     ]
    }
   ],
   "source": [
    "file_path = './BCCC-CIC-IDS2017/ddos_loit.csv'  \n",
    "df = pd.read_csv(file_path)\n",
    "# Define the characteristic columns for the selection\n",
    "selected_features = [\n",
    "    'dst_port','duration',\n",
    "    'fwd_packets_count', 'bwd_packets_count', \n",
    "    'fwd_total_payload_bytes', 'bwd_total_payload_bytes', 'fwd_payload_bytes_max', 'fwd_payload_bytes_min', \n",
    "    'fwd_payload_bytes_mean', 'fwd_payload_bytes_std', 'bwd_payload_bytes_max', \n",
    "    'bwd_payload_bytes_min', 'bwd_payload_bytes_mean', 'bwd_payload_bytes_std', \n",
    "    'payload_bytes_min', 'payload_bytes_max', 'payload_bytes_mean', 'payload_bytes_std', \n",
    "    'fwd_avg_segment_size', 'bwd_avg_segment_size', \n",
    "    'fwd_total_header_bytes',  'bwd_total_header_bytes', \n",
    "    'bytes_rate', 'packets_rate', 'fwd_packets_rate',  'bwd_packets_rate', 'down_up_rate', \n",
    "    'packets_IAT_mean', 'packet_IAT_std', 'packet_IAT_max', 'packet_IAT_min', \n",
    "    'fwd_packets_IAT_total', 'fwd_packets_IAT_mean', 'fwd_packets_IAT_std', 'fwd_packets_IAT_max', 'fwd_packets_IAT_min', \n",
    "    'bwd_packets_IAT_total', 'bwd_packets_IAT_mean', 'bwd_packets_IAT_std', 'bwd_packets_IAT_max', 'bwd_packets_IAT_min',\n",
    "    'subflow_fwd_packets', 'subflow_fwd_bytes', 'subflow_bwd_packets', 'subflow_bwd_bytes', \n",
    "    'active_mean', 'active_std', 'active_max', 'active_min', 'idle_mean', 'idle_std', 'idle_max', 'idle_min',\n",
    "    'fin_flag_counts','syn_flag_counts','rst_flag_counts','ack_flag_counts','psh_flag_counts','fwd_ack_flag_counts','bwd_rst_flag_counts',\n",
    "    'label'\n",
    "]\n",
    "\n",
    "df_selected = df[selected_features]\n",
    "\n",
    "output_file = './processed_result/ddos_selected_features.csv' \n",
    "df_selected.to_csv(output_file, index=False)\n",
    "\n",
    "print(f\"The new dataset has been saved as: {output_file}\")\n"
   ]
  },
  {
   "cell_type": "code",
   "execution_count": 3,
   "id": "dfa53cc8-8e87-4a6a-9cc2-d6e6b584c373",
   "metadata": {},
   "outputs": [
    {
     "name": "stdout",
     "output_type": "stream",
     "text": [
      "The new dataset has been saved as: ./processed_result/ddos_sample_5000_selected.csv\n"
     ]
    }
   ],
   "source": [
    "import pandas as pd\n",
    "\n",
    "file_path = './processed_result/ddos_selected_features.csv'\n",
    "df = pd.read_csv(file_path)\n",
    "\n",
    "sampled_df= df.sample(n=5000, random_state=42)\n",
    "output_file = './processed_result/ddos_sample_5000_selected.csv'\n",
    "sampled_df.to_csv(output_file, index=False)\n",
    "print(f\"The new dataset has been saved as: {output_file}\")"
   ]
  },
  {
   "cell_type": "code",
   "execution_count": null,
   "id": "edef9ec2-2b2b-4a23-9301-eb076126f9b2",
   "metadata": {},
   "outputs": [],
   "source": []
  }
 ],
 "metadata": {
  "kernelspec": {
   "display_name": "Python 3",
   "language": "python",
   "name": "python3"
  },
  "language_info": {
   "codemirror_mode": {
    "name": "ipython",
    "version": 3
   },
   "file_extension": ".py",
   "mimetype": "text/x-python",
   "name": "python",
   "nbconvert_exporter": "python",
   "pygments_lexer": "ipython3",
   "version": "3.8.8"
  }
 },
 "nbformat": 4,
 "nbformat_minor": 5
}
